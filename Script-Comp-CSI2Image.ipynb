{
 "cells": [
  {
   "cell_type": "code",
   "execution_count": 1,
   "id": "840cbc7c-ea8f-4217-bac1-2fe04c80e602",
   "metadata": {
    "tags": []
   },
   "outputs": [],
   "source": [
    "# Imports\n",
    "import torch\n",
    "import torch.nn as nn\n",
    "import torch.utils.data as Data\n",
    "from torchvision import datasets, transforms\n",
    "from torchinfo import summary\n",
    "import matplotlib.pyplot as plt\n",
    "import os\n",
    "import numpy as np\n",
    "import random\n",
    "import time\n",
    "import CompMethods_CSI2Image as TP\n",
    "import DataSetting_v5 as DS"
   ]
  },
  {
   "cell_type": "code",
   "execution_count": null,
   "id": "f5c3c0b6-eaab-4eec-a4db-a72b298627bf",
   "metadata": {
    "tags": []
   },
   "outputs": [
    {
     "name": "stdout",
     "output_type": "stream",
     "text": [
      "Cross validation plan at subject level\n",
      "Single-process loading...\n",
      "\u001b[33mSkipping 0709A01-csio.npy\u001b[0m\n",
      "Loaded 0709A02-csi.npy of (232687, 30, 3), elapsed 10.1517 sec\n",
      "\u001b[33mSkipping 0709A02-csitime.npy\u001b[0m\n",
      "\u001b[33mSkipping 0709A03-csitime.npy\u001b[0m\n",
      "Loaded 0709A04-pd.npy of (163332, 62), elapsed 10.2393 sec\n",
      "\u001b[33mSkipping 0709A10-csitime.npy\u001b[0m\n",
      "Loaded 0709A10-pd.npy of (93119, 62), elapsed 10.2403 sec\n",
      "Loaded 0709A11-csi.npy of (219643, 30, 3), elapsed 10.2394 sec\n",
      "\u001b[33mSkipping 0709A101-csitime.npy\u001b[0m\n",
      "Loaded 0709A12-csi.npy of (151822, 30, 3), elapsed 10.2396 sec\n",
      "\u001b[33mSkipping 0709A13-csio.npy\u001b[0m\n",
      "\u001b[33mSkipping 0709A13-csitime.npy\u001b[0m\n"
     ]
    }
   ],
   "source": [
    "date = '2024_Door_EXP/Comp_CSI2Image/'\n",
    "name = f'{date}CSI2Image_sub_A208'\n",
    "data_path = [\n",
    "    '../dataset/Door_EXP/TrainVer/A208',\n",
    "#             '../dataset/Door_EXP/A308',\n",
    "#             '../dataset/Door_EXP/B211',\n",
    "#             '../dataset/Door_EXP/C605_new'\n",
    "            ]\n",
    "level = 'subject'\n",
    "\n",
    "data_organizer = DS.DataOrganizer(name, data_path, level)\n",
    "data_organizer.load()"
   ]
  },
  {
   "cell_type": "code",
   "execution_count": null,
   "id": "8498cf96-964a-453d-be7a-b73533ff413e",
   "metadata": {},
   "outputs": [],
   "source": [
    "data_organizer.load_plan(f'../dataset/Door_EXP/subject_r0.2_A208.pkl')\n",
    "train_loader, valid_loader, test_loader, current_test = data_organizer.gen_loaders(\n",
    "    data_organizer=data_organizer,\n",
    "    subset_ratio=1,\n",
    "    num_workers=2,\n",
    "    csi_len=1,\n",
    "    batch_size=32)\n",
    "\n",
    "loaders = {\n",
    "    'train': train_loader,\n",
    "    'valid': valid_loader,\n",
    "    'test': test_loader\n",
    "}"
   ]
  },
  {
   "cell_type": "code",
   "execution_count": null,
   "id": "0dcbc464-9db4-4117-b2bd-2a0600fc11b3",
   "metadata": {},
   "outputs": [],
   "source": [
    "preprocess = TP.Preprocess(new_size=(64, 64))\n",
    "gpu = 0\n",
    "torch.cuda.set_device(gpu)\n",
    "trainer = TP.CSI2ImageTrainer(name='CSI2Image',\n",
    "                              loss_optimizer = {'LOSS': [torch.optim.Adam, 1e-4]},\n",
    "                              lr=2e-4, epochs=300, cuda=gpu,\n",
    "                              preprocess = preprocess,\n",
    "                              notion=f'{name}_{current_test}',\n",
    "                              dataloaders=loaders\n",
    "                             )\n",
    "\n",
    "trainer.schedule(early_stop=False)"
   ]
  },
  {
   "cell_type": "code",
   "execution_count": 5,
   "id": "0f8ce8f6-22c4-4df0-a7c1-8e8fcd394dc8",
   "metadata": {
    "tags": []
   },
   "outputs": [
    {
     "name": "stdout",
     "output_type": "stream",
     "text": [
      "loaded 20240709_142959-env-rimg.npy\n",
      "loaded 20240709_153519-rimg.npy\n",
      "loaded 20240709_154950-rimg.npy\n",
      "loaded 20240709_161802-rimg.npy\n",
      "loaded 20240709_163045-rimg.npy\n",
      "loaded 20240709_164816-rimg.npy\n",
      "loaded 20240709_165643-rimg.npy\n",
      "loaded 20240709_185105-rimg.npy\n",
      "loaded 20240709_191754-rimg.npy\n",
      "loaded 20240709_192745-rimg.npy\n",
      "loaded 20240709_193258-rimg.npy\n",
      "loaded 20240709_193501-rimg.npy\n",
      "loaded 20240709_151047-rimg.npy\n"
     ]
    },
    {
     "ename": "KeyboardInterrupt",
     "evalue": "",
     "output_type": "error",
     "traceback": [
      "\u001b[0;31m---------------------------------------------------------------------------\u001b[0m",
      "\u001b[0;31mKeyboardInterrupt\u001b[0m                         Traceback (most recent call last)",
      "\u001b[0;32m/tmp/ipykernel_21498/43801877.py\u001b[0m in \u001b[0;36m<module>\u001b[0;34m\u001b[0m\n\u001b[1;32m      4\u001b[0m         \u001b[0mfile_name_\u001b[0m\u001b[0;34m,\u001b[0m \u001b[0mext\u001b[0m \u001b[0;34m=\u001b[0m \u001b[0mos\u001b[0m\u001b[0;34m.\u001b[0m\u001b[0mpath\u001b[0m\u001b[0;34m.\u001b[0m\u001b[0msplitext\u001b[0m\u001b[0;34m(\u001b[0m\u001b[0mfile_name\u001b[0m\u001b[0;34m)\u001b[0m\u001b[0;34m\u001b[0m\u001b[0;34m\u001b[0m\u001b[0m\n\u001b[1;32m      5\u001b[0m         \u001b[0;32mif\u001b[0m \u001b[0mext\u001b[0m \u001b[0;34m==\u001b[0m \u001b[0;34m'.npy'\u001b[0m \u001b[0;32mand\u001b[0m \u001b[0;34m'rimg'\u001b[0m \u001b[0;32min\u001b[0m \u001b[0mfile_name_\u001b[0m\u001b[0;34m:\u001b[0m\u001b[0;34m\u001b[0m\u001b[0;34m\u001b[0m\u001b[0m\n\u001b[0;32m----> 6\u001b[0;31m             \u001b[0mda\u001b[0m\u001b[0;34m[\u001b[0m\u001b[0mfile_name_\u001b[0m\u001b[0;34m]\u001b[0m \u001b[0;34m=\u001b[0m \u001b[0mnp\u001b[0m\u001b[0;34m.\u001b[0m\u001b[0mload\u001b[0m\u001b[0;34m(\u001b[0m\u001b[0mos\u001b[0m\u001b[0;34m.\u001b[0m\u001b[0mpath\u001b[0m\u001b[0;34m.\u001b[0m\u001b[0mjoin\u001b[0m\u001b[0;34m(\u001b[0m\u001b[0mp\u001b[0m\u001b[0;34m,\u001b[0m \u001b[0mfile_name\u001b[0m\u001b[0;34m)\u001b[0m\u001b[0;34m,\u001b[0m \u001b[0mmmap_mode\u001b[0m\u001b[0;34m=\u001b[0m\u001b[0;34m'r'\u001b[0m\u001b[0;34m)\u001b[0m\u001b[0;34m\u001b[0m\u001b[0;34m\u001b[0m\u001b[0m\n\u001b[0m\u001b[1;32m      7\u001b[0m             \u001b[0mprint\u001b[0m\u001b[0;34m(\u001b[0m\u001b[0;34mf'loaded {file_name}'\u001b[0m\u001b[0;34m)\u001b[0m\u001b[0;34m\u001b[0m\u001b[0;34m\u001b[0m\u001b[0m\n",
      "\u001b[0;32m/opt/conda/lib/python3.7/site-packages/numpy/lib/npyio.py\u001b[0m in \u001b[0;36mload\u001b[0;34m(file, mmap_mode, allow_pickle, fix_imports, encoding)\u001b[0m\n\u001b[1;32m    436\u001b[0m             \u001b[0;31m# .npy file\u001b[0m\u001b[0;34m\u001b[0m\u001b[0;34m\u001b[0m\u001b[0;34m\u001b[0m\u001b[0m\n\u001b[1;32m    437\u001b[0m             \u001b[0;32mif\u001b[0m \u001b[0mmmap_mode\u001b[0m\u001b[0;34m:\u001b[0m\u001b[0;34m\u001b[0m\u001b[0;34m\u001b[0m\u001b[0m\n\u001b[0;32m--> 438\u001b[0;31m                 \u001b[0;32mreturn\u001b[0m \u001b[0mformat\u001b[0m\u001b[0;34m.\u001b[0m\u001b[0mopen_memmap\u001b[0m\u001b[0;34m(\u001b[0m\u001b[0mfile\u001b[0m\u001b[0;34m,\u001b[0m \u001b[0mmode\u001b[0m\u001b[0;34m=\u001b[0m\u001b[0mmmap_mode\u001b[0m\u001b[0;34m)\u001b[0m\u001b[0;34m\u001b[0m\u001b[0;34m\u001b[0m\u001b[0m\n\u001b[0m\u001b[1;32m    439\u001b[0m             \u001b[0;32melse\u001b[0m\u001b[0;34m:\u001b[0m\u001b[0;34m\u001b[0m\u001b[0;34m\u001b[0m\u001b[0m\n\u001b[1;32m    440\u001b[0m                 return format.read_array(fid, allow_pickle=allow_pickle,\n",
      "\u001b[0;32m/opt/conda/lib/python3.7/site-packages/numpy/lib/format.py\u001b[0m in \u001b[0;36mopen_memmap\u001b[0;34m(filename, mode, dtype, shape, fortran_order, version)\u001b[0m\n\u001b[1;32m    865\u001b[0m     \u001b[0;32melse\u001b[0m\u001b[0;34m:\u001b[0m\u001b[0;34m\u001b[0m\u001b[0;34m\u001b[0m\u001b[0m\n\u001b[1;32m    866\u001b[0m         \u001b[0;31m# Read the header of the file first.\u001b[0m\u001b[0;34m\u001b[0m\u001b[0;34m\u001b[0m\u001b[0;34m\u001b[0m\u001b[0m\n\u001b[0;32m--> 867\u001b[0;31m         \u001b[0;32mwith\u001b[0m \u001b[0mopen\u001b[0m\u001b[0;34m(\u001b[0m\u001b[0mos_fspath\u001b[0m\u001b[0;34m(\u001b[0m\u001b[0mfilename\u001b[0m\u001b[0;34m)\u001b[0m\u001b[0;34m,\u001b[0m \u001b[0;34m'rb'\u001b[0m\u001b[0;34m)\u001b[0m \u001b[0;32mas\u001b[0m \u001b[0mfp\u001b[0m\u001b[0;34m:\u001b[0m\u001b[0;34m\u001b[0m\u001b[0;34m\u001b[0m\u001b[0m\n\u001b[0m\u001b[1;32m    868\u001b[0m             \u001b[0mversion\u001b[0m \u001b[0;34m=\u001b[0m \u001b[0mread_magic\u001b[0m\u001b[0;34m(\u001b[0m\u001b[0mfp\u001b[0m\u001b[0;34m)\u001b[0m\u001b[0;34m\u001b[0m\u001b[0;34m\u001b[0m\u001b[0m\n\u001b[1;32m    869\u001b[0m             \u001b[0m_check_version\u001b[0m\u001b[0;34m(\u001b[0m\u001b[0mversion\u001b[0m\u001b[0;34m)\u001b[0m\u001b[0;34m\u001b[0m\u001b[0;34m\u001b[0m\u001b[0m\n",
      "\u001b[0;31mKeyboardInterrupt\u001b[0m: "
     ]
    }
   ],
   "source": [
    "da = {}\n",
    "for p, _, file_lst in os.walk('../dataset/Door_EXP/TrainVer/A208'):\n",
    "    for file_name in file_lst:\n",
    "        file_name_, ext = os.path.splitext(file_name)\n",
    "        if ext == '.npy' and 'rimg' in file_name_:\n",
    "            da[file_name_] = np.load(os.path.join(p, file_name), mmap_mode='r')\n",
    "            print(f'loaded {file_name}')"
   ]
  },
  {
   "cell_type": "code",
   "execution_count": null,
   "id": "660c079c-10e0-4a7d-bb3c-9a5d87ac1817",
   "metadata": {},
   "outputs": [],
   "source": []
  }
 ],
 "metadata": {
  "kernelspec": {
   "display_name": "Python 3 (ipykernel)",
   "language": "python",
   "name": "python3"
  },
  "language_info": {
   "codemirror_mode": {
    "name": "ipython",
    "version": 3
   },
   "file_extension": ".py",
   "mimetype": "text/x-python",
   "name": "python",
   "nbconvert_exporter": "python",
   "pygments_lexer": "ipython3",
   "version": "3.7.11"
  }
 },
 "nbformat": 4,
 "nbformat_minor": 5
}
