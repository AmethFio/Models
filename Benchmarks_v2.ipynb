{
 "cells": [
  {
   "cell_type": "code",
   "execution_count": 1,
   "id": "562e7d23-c1ec-47ab-8210-53d15b30bd77",
   "metadata": {
    "tags": []
   },
   "outputs": [],
   "source": [
    "# Imports\n",
    "# !pip install torchinfo\n",
    "import torch\n",
    "import torch.nn as nn\n",
    "import torch.utils.data as Data\n",
    "from torchvision import datasets, transforms\n",
    "from torchinfo import summary\n",
    "import matplotlib.pyplot as plt\n",
    "import numpy as np\n",
    "import random\n",
    "import Trainer_V06C1 as TP\n",
    "import CompMethod as TP_Comp"
   ]
  },
  {
   "cell_type": "code",
   "execution_count": null,
   "id": "b19457c2-0149-4dd0-8fef-61fe52120bab",
   "metadata": {},
   "outputs": [],
   "source": [
    "gpu = 4"
   ]
  },
  {
   "cell_type": "code",
   "execution_count": 2,
   "id": "e0258cba-bfaa-49fe-a3d4-3193159b94dc",
   "metadata": {
    "tags": []
   },
   "outputs": [
    {
     "name": "stdout",
     "output_type": "stream",
     "text": [
      "loaded\n",
      "(7638, 2, 90, 100) (7638, 1, 128, 128)\n",
      "6110 763 765\n",
      "6110 763 765\n"
     ]
    }
   ],
   "source": [
    "datadir = '../Dataset/0307make07/'\n",
    "print(os.listdir(datadir))"
   ]
  },
  {
   "cell_type": "code",
   "execution_count": null,
   "id": "2657b6ef-9688-48ab-801e-4a814b934c6e",
   "metadata": {},
   "outputs": [],
   "source": [
    "mydata = DS.MyDataset(name='comp',\n",
    "                      csi_path = datadir + 'csi_f.npy',\n",
    "                      img_path = datadir + 'c_img.npy',\n",
    "                      img_size=(128, 128),\n",
    "                       mmap_mode=None\n",
    "                     )\n",
    "mydata.load_data()\n",
    "myloader = DS.DataSplitter(mydata, train_ratio=0.8)\n",
    "\n",
    "train_loader, valid_loader, test_loader = myloader.split_loader()"
   ]
  },
  {
   "cell_type": "code",
   "execution_count": 3,
   "id": "c87e13fc-fd4e-45b1-8a9f-27327db41b9d",
   "metadata": {},
   "outputs": [
    {
     "name": "stdout",
     "output_type": "stream",
     "text": [
      "loaded\n",
      "(7638, 2, 90, 100) (7638, 1, 128, 128)\n",
      "6110 763 765\n",
      "6110 763 765\n"
     ]
    }
   ],
   "source": [
    "# ----Don't use ToPILImage() or ToTensor()----\n",
    "transform = transforms.Compose([\n",
    "    transforms.Resize([240, 320]),\n",
    " ])\n",
    "\n",
    "\n",
    "mydata_wi2vi = DS.MyDataset(name='comp',\n",
    "                      csi_path = datadir + 'csi_f.npy',\n",
    "                      img_path = datadir + 'r_img.npy',\n",
    "                      img_size=(226, 128),\n",
    "                            transform=transform,\n",
    "                       mmap_mode=None\n",
    "                     )\n",
    "mydata_wi2vi.load_data()\n",
    "myloader = DS.DataSplitter(mydata_wi2vi, train_ratio=0.8)\n",
    "\n",
    "train_loader, valid_loader, test_loader = myloader.split_loader()"
   ]
  },
  {
   "cell_type": "code",
   "execution_count": null,
   "id": "70df662b-42c1-483c-8052-9407af40a062",
   "metadata": {},
   "outputs": [],
   "source": [
    "select_ind = np.random.choice(765, 8).tolist()"
   ]
  },
  {
   "cell_type": "markdown",
   "id": "45353951-cfb0-4204-b79e-29080e537824",
   "metadata": {},
   "source": [
    "### Proposed"
   ]
  },
  {
   "cell_type": "code",
   "execution_count": 6,
   "id": "c3d469f3-2dc2-47e0-91f5-ea3cdb072f71",
   "metadata": {
    "tags": []
   },
   "outputs": [],
   "source": [
    "torch.cuda.set_device(gpu)\n",
    "imgencoder = TP.ImageEncoder(latent_dim=16)\n",
    "imgdecoder = TP.ImageDecoder(active_func=nn.Sigmoid(),latent_dim=16)\n",
    "csiencoder = TP.CSIEncoder(out_length=32)\n",
    "\n",
    "imgencoder.load_state_dict(torch.load('../saved/0827r2/0827r2_ImgEnV03b3FcTe100_Se400.pth'))\n",
    "imgdecoder.load_state_dict(torch.load('../saved/0827r2/0827r2_ImgDeV03b3Te100_Se400.pth'))\n",
    "csiencoder.load_state_dict(torch.load('../saved/0827r2/0827r2_Model_v03b2_CsiEn_LastTe100_Se400.pth'))\n",
    "\n",
    "S_trainer_mask = TP.StudentTrainerMask(\n",
    "                              name='PropStudent', networks=[csiencoder, imgencoder, imgdecoder],\n",
    "                 lr=1e-4, epochs=10, cuda=gpu,\n",
    "                 train_loader=train_loader, valid_loader=valid_loader, test_loader=test_loader)"
   ]
  },
  {
   "cell_type": "code",
   "execution_count": null,
   "id": "956b89b9-93c2-4ec6-a0d2-4c2de9226924",
   "metadata": {},
   "outputs": [],
   "source": [
    "S_trainer_mask.test(loader=test_loader)\n",
    "S_trainer_mask.plot_test(select_num=8, autosave=True, notion='240304Bench')"
   ]
  },
  {
   "cell_type": "code",
   "execution_count": 8,
   "id": "487201db-1f3b-4d5e-a363-40bf30021533",
   "metadata": {
    "tags": []
   },
   "outputs": [],
   "source": [
    "np.save('../saved/240304Bench/prop.npy', S_trainer_mask.loss.loss['pred']['IMG'])"
   ]
  },
  {
   "cell_type": "markdown",
   "id": "4af79ccc-637a-459e-a4ef-0a87b2427ce7",
   "metadata": {},
   "source": [
    "### AutoEncoder"
   ]
  },
  {
   "cell_type": "code",
   "execution_count": 7,
   "id": "f209aac3-1d7d-4ad6-8007-14ec2515d6ef",
   "metadata": {
    "tags": []
   },
   "outputs": [],
   "source": [
    "torch.cuda.set_device(gpu)\n",
    "ae = TP.AutoEncoder(latent_dim=16)\n",
    "ae.load_state_dict(torch.load('../saved/Comp_ae.pth'))\n",
    "\n",
    "trainer_ae = TP.CompTrainer(name='AE', mode='ae', mask=True,\n",
    "                              networks=[ae],\n",
    "                 lr=1e-4, epochs=10, cuda=gpu,\n",
    "                 train_loader=train_loader, valid_loader=valid_loader, test_loader=test_loader)"
   ]
  },
  {
   "cell_type": "code",
   "execution_count": null,
   "id": "682e1399-e83c-4798-9f3a-847bea71949f",
   "metadata": {},
   "outputs": [],
   "source": [
    "trainer_ae.test(mode='test')\n",
    "trainer_ae.plot_test(select_num=8, autosave=True, notion='240304Bench')"
   ]
  },
  {
   "cell_type": "code",
   "execution_count": 23,
   "id": "26aac364-b825-45dd-ab5b-ff50a14a6f2b",
   "metadata": {
    "tags": []
   },
   "outputs": [],
   "source": [
    "np.save('../saved/240304Bench/ae.npy', trainer_ae.loss.loss['pred']['LOSS'])"
   ]
  },
  {
   "cell_type": "markdown",
   "id": "f5252185-f875-4fe0-8a3b-79a00070d543",
   "metadata": {},
   "source": [
    "### VAE"
   ]
  },
  {
   "cell_type": "code",
   "execution_count": null,
   "id": "c7745cc2-4002-47dc-af5a-91aab250364e",
   "metadata": {},
   "outputs": [],
   "source": [
    "torch.cuda.set_device(gpu)\n",
    "imgdecoder = TP.ImageDecoder(latent_dim=16)\n",
    "csiencoder = TP.CSIEncoder(out_length=32)\n",
    "trainer_vae = TP.CompTrainer(name='VAE', mode='vae', mask=True,\n",
    "                              networks=[csiencoder, imgdecoder],\n",
    "                 lr=1e-4, epochs=10, cuda=gpu,\n",
    "                 train_loader=train_loader, valid_loader=valid_loader, test_loader=test_loader)"
   ]
  },
  {
   "cell_type": "code",
   "execution_count": null,
   "id": "40ac0e81-5539-4f73-8bc2-3212a518402d",
   "metadata": {},
   "outputs": [],
   "source": [
    "trainer_vae.test(mode='test')\n",
    "trainer_vae.plot_test(select_ind=[0, 125, 250, 375, 500, 625, 750, 875],select_num=8, autosave=True, notion='240304Bench')"
   ]
  },
  {
   "cell_type": "code",
   "execution_count": null,
   "id": "5c4f6484-94da-42a3-8ab1-a27b15e01095",
   "metadata": {},
   "outputs": [],
   "source": []
  },
  {
   "cell_type": "markdown",
   "id": "d55c35f1-89df-46e8-a1d7-1d11652e0772",
   "metadata": {},
   "source": [
    "### TS_AE"
   ]
  },
  {
   "cell_type": "code",
   "execution_count": 8,
   "id": "f84249d9-9ad7-41f1-988c-5b62ac4ce8d5",
   "metadata": {
    "tags": []
   },
   "outputs": [],
   "source": [
    "torch.cuda.set_device(gpu)\n",
    "imgencoder = TP.ImageEncoder(latent_dim=16)\n",
    "imgdecoder = TP.ImageDecoder(latent_dim=16)\n",
    "csiencoder = TP.CSIEncoder(out_length=16)\n",
    "\n",
    "trainer_ae_s = TP.CompTrainerStudent(\n",
    "                              name='TSAE_Student', mask=True,\n",
    "    networks=[csiencoder, imgencoder, imgdecoder],\n",
    "                 lr=1e-4, epochs=10, cuda=gpu,\n",
    "                 train_loader=train_loader, valid_loader=valid_loader, test_loader=test_loader)"
   ]
  },
  {
   "cell_type": "code",
   "execution_count": null,
   "id": "68c2cb77-b346-4bc0-87cd-b059891b7b65",
   "metadata": {},
   "outputs": [],
   "source": [
    "trainer_ae_s.test(loader=test_loader)\n",
    "trainer_ae_s.plot_test(select_num=8, autosave=True, notion='240304Bench')"
   ]
  },
  {
   "cell_type": "code",
   "execution_count": 24,
   "id": "84ffa5b1-031a-44b9-aae0-ce45aec0e614",
   "metadata": {
    "tags": []
   },
   "outputs": [],
   "source": [
    "np.save('../saved/0829ts.npy', trainer_ts.test_loss['s']['IMG'])"
   ]
  },
  {
   "cell_type": "markdown",
   "id": "86ae37a7-e526-4296-9147-aa0942c15c35",
   "metadata": {},
   "source": [
    "### Wi2Vi"
   ]
  },
  {
   "cell_type": "code",
   "execution_count": 9,
   "id": "87ed07d7-e61d-441c-9953-283c5b369fcf",
   "metadata": {
    "tags": []
   },
   "outputs": [],
   "source": [
    "torch.cuda.set_device(gpu)\n",
    "wi2vi = TP.Wi2Vi()\n",
    "wi2vi.load_state_dict(torch.load('../saved/0829r1/0829r1_Wi2Vi_e200.pth'))\n",
    "\n",
    "trainer_wi2vi = TP.CompTrainer(name='Wi2Vi', mask=True,\n",
    "                              networks=[wi2vi],\n",
    "                 lr=1e-4, epochs=10, cuda=gpu,\n",
    "                 train_loader=train_loader, valid_loader=valid_loader, test_loader=test_loader)"
   ]
  },
  {
   "cell_type": "code",
   "execution_count": 10,
   "id": "10682ff1-c448-4c53-984f-b5822d6ad678",
   "metadata": {
    "tags": []
   },
   "outputs": [
    {
     "name": "stdout",
     "output_type": "stream",
     "text": [
      "Student: test=612/765, loss=0.11455684155225754\n",
      "Test finished. Average loss={'LOSS': 0.5105084423024475, 'STRA': 1.6379321341908055, 'DIST': 0.027326828888708764, 'IMG': 168.13128442452623}\n"
     ]
    }
   ],
   "source": [
    "trainer_wi2vi.test(mode='test')\n",
    "trainer_wi2vi.plot_test(select_ind=[0, 125,250,375,500,625,750,875],select_num=8, autosave=True, notion='240304Bench')"
   ]
  },
  {
   "cell_type": "code",
   "execution_count": 25,
   "id": "041fce22-6cb4-4c32-936f-fd8bcfbbd46d",
   "metadata": {
    "tags": []
   },
   "outputs": [],
   "source": [
    "np.save('../saved/0829wi2vi.npy', trainer_wi2vi.test_loss['LOSS'])"
   ]
  }
 ],
 "metadata": {
  "kernelspec": {
   "display_name": "Python 3 (ipykernel)",
   "language": "python",
   "name": "python3"
  },
  "language_info": {
   "codemirror_mode": {
    "name": "ipython",
    "version": 3
   },
   "file_extension": ".py",
   "mimetype": "text/x-python",
   "name": "python",
   "nbconvert_exporter": "python",
   "pygments_lexer": "ipython3",
   "version": "3.7.11"
  }
 },
 "nbformat": 4,
 "nbformat_minor": 5
}
