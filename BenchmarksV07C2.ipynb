{
 "cells": [
  {
   "cell_type": "code",
   "execution_count": 1,
   "id": "562e7d23-c1ec-47ab-8210-53d15b30bd77",
   "metadata": {
    "tags": []
   },
   "outputs": [],
   "source": [
    "# Imports\n",
    "# !pip install torchinfo\n",
    "import torch\n",
    "import torch.nn.functional as F\n",
    "import torch.utils.data as Data\n",
    "from torchvision import datasets, transforms\n",
    "from torchinfo import summary\n",
    "import matplotlib.pyplot as plt\n",
    "import matplotlib as mpl\n",
    "import numpy as np\n",
    "import random\n",
    "import cv2\n",
    "import Comparison_v2 as CM\n",
    "import os\n",
    "import DataSetting_v2 as DS\n",
    "\n",
    "%%html\n",
    "<style>\n",
    ".cell-output-ipywidget-background {\n",
    "    background-color: transparent !important;\n",
    "}\n",
    ":root {\n",
    "    --jp-widgets-color: var(--vscode-editor-foreground);\n",
    "    --jp-widgets-font-size: var(--vscode-editor-font-size);\n",
    "}  \n",
    "</style>"
   ]
  },
  {
   "cell_type": "markdown",
   "id": "9529af49-b9c8-4b6f-9a52-be98066c71d1",
   "metadata": {
    "tags": []
   },
   "source": [
    "### Comparison"
   ]
  },
  {
   "cell_type": "code",
   "execution_count": null,
   "id": "ebee2ca6-6ecb-4954-a457-3a2cc2a818e8",
   "metadata": {
    "tags": []
   },
   "outputs": [],
   "source": [
    "notion = '240513Comp1'\n",
    "save_path = f'../saved/{notion}/'\n",
    "figs = []"
   ]
  },
  {
   "cell_type": "code",
   "execution_count": null,
   "id": "d50a604e-aeec-4b0a-8dde-1b0ca26d51b5",
   "metadata": {
    "tags": []
   },
   "outputs": [],
   "source": [
    "datadir = f'../dataset/0509/make19_30/'\n",
    "dataplanner = DS.DataRegrouper(datadir)\n",
    "dataplanner.load_raw(scope=('T03', 'T04'), mmap_mode='r')\n",
    "test_data = dataplanner.regroup({'T03', 'T04'})"
   ]
  },
  {
   "cell_type": "code",
   "execution_count": 3,
   "id": "f189520c",
   "metadata": {},
   "outputs": [
    {
     "name": "stdout",
     "output_type": "stream",
     "text": [
      "Loading from ../dataset/0509/make19_30-finished/\n"
     ]
    },
    {
     "data": {
      "application/json": {
       "ascii": false,
       "bar_format": null,
       "colour": null,
       "elapsed": 0.01769542694091797,
       "initial": 0,
       "n": 0,
       "ncols": null,
       "nrows": null,
       "postfix": null,
       "prefix": "",
       "rate": null,
       "total": 10,
       "unit": "it",
       "unit_divisor": 1000,
       "unit_scale": false
      },
      "application/vnd.jupyter.widget-view+json": {
       "model_id": "ae7f293c04fb4d52b2557c8a0ec04e1b",
       "version_major": 2,
       "version_minor": 0
      },
      "text/plain": [
       "  0%|          | 0/10 [00:00<?, ?it/s]"
      ]
     },
     "metadata": {},
     "output_type": "display_data"
    },
    {
     "name": "stdout",
     "output_type": "stream",
     "text": [
      "Profiled by {'T01'}\n"
     ]
    }
   ],
   "source": [
    "dataset = DS.MyDataset('dataset', data_dir = r'../dataset/0509/make19_30-finished/', modalities=('rimg', 'tag'))\n",
    "dataset.profiling({'T01'})"
   ]
  },
  {
   "cell_type": "code",
   "execution_count": 5,
   "id": "8fc09625-e930-4c9e-bdf8-88ce1b5dd439",
   "metadata": {
    "tags": []
   },
   "outputs": [
    {
     "name": "stdout",
     "output_type": "stream",
     "text": [
      "Profiled by {'T01'}\n",
      "(array([5701, 5702, 5703, ..., 8133, 8134, 8135]),)\n",
      "Profiled by {'T03'}\n",
      "(array([ 8136,  8137,  8138, ..., 10556, 10557, 10558]),)\n",
      "Profiled by {'T04'}\n",
      "(array([   0,    1,    2, ..., 2643, 2644, 2645]),)\n",
      "Profiled by {'T02'}\n",
      "(array([2646, 2647, 2648, ..., 5698, 5699, 5700]),)\n"
     ]
    }
   ],
   "source": [
    "for T in {'T01', 'T02', 'T03', 'T04'}:\n",
    "    dataset.profiling({T})\n",
    "    print(np.where(dataset.profile==1))"
   ]
  },
  {
   "cell_type": "code",
   "execution_count": null,
   "id": "c6d473fd-33be-4f01-8f04-4802f028f7cf",
   "metadata": {
    "tags": []
   },
   "outputs": [],
   "source": [
    "C30 = CM.CenterResultCalculator('30Center', '../saved/240512_30C/240512_30C_Student_pred.npy', test_data)\n",
    "C30.resize()\n",
    "figs.append(C30.plot_example())"
   ]
  },
  {
   "cell_type": "code",
   "execution_count": null,
   "metadata": {},
   "outputs": [],
   "source": [
    "print(np.max(C30.resized[0]))"
   ]
  },
  {
   "cell_type": "code",
   "execution_count": null,
   "id": "dbff8347-8f80-44f7-abd2-43c3fa7a3300",
   "metadata": {
    "tags": []
   },
   "outputs": [],
   "source": [
    "F30_gt = np.squeeze(np.load('../dataset/0509/make14-split-few/rimg_test.npy', mmap_mode='r'))\n",
    "F30_gt_ind = np.load('../dataset/0509/make14-split-few/ind_test.npy', mmap_mode='r')\n",
    "\n",
    "F30 = Comparison.PropResultCalculator('30Few', '../saved/240331R1Prop/240331R1Prop_Student_pred.npy', F30_gt, F30_gt_ind)\n",
    "F30.resize()\n",
    "figs.append(F30.plot_example())"
   ]
  },
  {
   "cell_type": "code",
   "execution_count": null,
   "id": "1cf8749f-a7f1-41d3-9e27-55c0c9660d25",
   "metadata": {
    "scrolled": true,
    "tags": []
   },
   "outputs": [],
   "source": [
    "N100_gt = np.squeeze(np.load('../dataset/0509/make16_100-split/r_img_test.npy', mmap_mode='r'))\n",
    "N100_gt_ind = np.load('../dataset/0509/make16_100-split/ind_test.npy', mmap_mode='r')\n",
    "\n",
    "N100 = Comparison.PropResultCalculator('100Normal', '../saved/240414R1/240414R1_Student_pred.npy', N100_gt, N100_gt_ind)\n",
    "N100.resize()\n",
    "figs.append(N100.plot_example())"
   ]
  },
  {
   "cell_type": "code",
   "execution_count": null,
   "id": "3d1c6e02-5806-4d28-a255-8a78a9c1af86",
   "metadata": {
    "scrolled": true,
    "tags": []
   },
   "outputs": [],
   "source": [
    "F100_gt = np.squeeze(np.load('../dataset/0509/make16_100-few/r_img_test.npy', mmap_mode='r'))\n",
    "F100_gt_ind = np.load('../dataset/0509/make16_100-few/ind_test.npy', mmap_mode='r')\n",
    "\n",
    "F100 = Comparison.PropResultCalculator('100Few', '../saved/240414R2/240414R2_Student_pred.npy', F100_gt, F100_gt_ind)\n",
    "F100.resize()\n",
    "figs.append(F100.plot_example())"
   ]
  },
  {
   "cell_type": "code",
   "execution_count": null,
   "id": "b2a20b8c-f616-4994-90c3-ed350a86aa80",
   "metadata": {
    "tags": []
   },
   "outputs": [],
   "source": [
    "N300_gt = np.squeeze(np.load('../dataset/0509/make16_300-split/r_img_test.npy', mmap_mode='r'))\n",
    "N300_gt_ind = np.load('../dataset/0509/make16_300-split/ind_test.npy', mmap_mode='r')\n",
    "\n",
    "N300 = Comparison.PropResultCalculator('300Normal', '../saved/240415_300N/240415_300N_Student_pred.npy', N300_gt, N300_gt_ind)\n",
    "N300.resize()\n",
    "figs.append(N300.plot_example())"
   ]
  },
  {
   "cell_type": "code",
   "execution_count": null,
   "id": "5adbef63-8e38-439f-9bc7-ace75febf010",
   "metadata": {
    "scrolled": true,
    "tags": []
   },
   "outputs": [],
   "source": [
    "F300_gt = np.squeeze(np.load('../dataset/0509/make16_300-few/r_img_test.npy', mmap_mode='r'))\n",
    "F300_gt_ind = np.load('../dataset/0509/make16_300-few/ind_test.npy', mmap_mode='r')\n",
    "\n",
    "F300 = Comparison.PropResultCalculator('300Few', '../saved/240415_300F/240415_300F_Student_pred.npy', F300_gt, F300_gt_ind)\n",
    "F300.resize()\n",
    "figs.append(F300.plot_example())"
   ]
  },
  {
   "cell_type": "code",
   "execution_count": null,
   "id": "03e659c5-8196-4c1e-9ba2-24c7b432aa42",
   "metadata": {
    "tags": []
   },
   "outputs": [],
   "source": [
    "N900_gt = np.squeeze(np.load('../dataset/0509/make16_900-split/r_img_test.npy', mmap_mode='r'))\n",
    "N900_gt_ind = np.load('../dataset/0509/make16_900-split/ind_test.npy', mmap_mode='r')\n",
    "\n",
    "N900 = Comparison.PropResultCalculator('900Normal', '../saved/240415_900N/240415_900N_Student_pred.npy', N900_gt, N900_gt_ind)\n",
    "N900.resize()\n",
    "figs.append(N900.plot_example())"
   ]
  },
  {
   "cell_type": "code",
   "execution_count": null,
   "id": "d7eed9db-2191-47ce-a0a1-7c1262b622c7",
   "metadata": {
    "scrolled": true,
    "tags": []
   },
   "outputs": [],
   "source": [
    "F900_gt = np.squeeze(np.load('../dataset/0509/make16_900-few/r_img_test.npy', mmap_mode='r'))\n",
    "F900_gt_ind = np.load('../dataset/0509/make16_900-few/ind_test.npy', mmap_mode='r')\n",
    "\n",
    "F900 = Comparison.PropResultCalculator('900Few', '../saved/240415_900F/240415_900F_Student_pred.npy', F900_gt, F900_gt_ind)\n",
    "F900.resize()\n",
    "figs.append(F900.plot_example())"
   ]
  },
  {
   "cell_type": "code",
   "execution_count": null,
   "id": "d0f00b45-e230-4782-983e-0d0d9bcac630",
   "metadata": {
    "tags": []
   },
   "outputs": [],
   "source": [
    "Z30 = Comparison.ZeroEstimates('Z30Nromal', None, N30_gt, N30_gt_ind)"
   ]
  },
  {
   "cell_type": "code",
   "execution_count": null,
   "id": "50ab86b6-57ac-4678-b518-7519349b3e87",
   "metadata": {
    "scrolled": true,
    "tags": []
   },
   "outputs": [],
   "source": [
    "for method in(N30, Z30, F30, N100, F100, N300, F300, N900, F900):\n",
    "    method.calculate_loss()\n",
    "    fig, filename = method.calculate_cdf()"
   ]
  },
  {
   "cell_type": "code",
   "execution_count": null,
   "id": "38fef3a1-b959-40c0-a053-8f02d0cb9c10",
   "metadata": {
    "tags": []
   },
   "outputs": [],
   "source": [
    "figs.append(Comparison.gather_plot(N30, Z30, F30, N100, F100, N300, F300, N900, F900))"
   ]
  },
  {
   "cell_type": "code",
   "execution_count": null,
   "id": "2742c0fd-ede2-42ec-bf79-7839cc98a29e",
   "metadata": {},
   "outputs": [],
   "source": [
    "import os\n",
    "if not os.path.exists(save_path):\n",
    "    os.makedirs(save_path)\n",
    "for fig, filename in figs:\n",
    "    fig.savefig(f\"{save_path}{notion}_{filename}\")"
   ]
  },
  {
   "cell_type": "code",
   "execution_count": null,
   "id": "21bc9fea-0bc8-42cb-ba05-742617d3086c",
   "metadata": {},
   "outputs": [],
   "source": []
  }
 ],
 "metadata": {
  "kernelspec": {
   "display_name": "Python 3 (ipykernel)",
   "language": "python",
   "name": "python3"
  },
  "language_info": {
   "codemirror_mode": {
    "name": "ipython",
    "version": 3
   },
   "file_extension": ".py",
   "mimetype": "text/x-python",
   "name": "python",
   "nbconvert_exporter": "python",
   "pygments_lexer": "ipython3",
   "version": "3.7.11"
  }
 },
 "nbformat": 4,
 "nbformat_minor": 5
}
