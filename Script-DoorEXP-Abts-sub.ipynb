{
 "cells": [
  {
   "cell_type": "markdown",
   "id": "cd528ddf-6f26-4ed1-a36b-dae164abff35",
   "metadata": {},
   "source": [
    "# Ablation Teacher-Student Subject"
   ]
  },
  {
   "cell_type": "code",
   "execution_count": null,
   "id": "6c164517-a07f-4d97-8137-ba89e15886aa",
   "metadata": {},
   "outputs": [],
   "source": [
    "# Imports\n",
    "# !pip install torchinfo\n",
    "import torch\n",
    "from torchinfo import summary\n",
    "import matplotlib.pyplot as plt\n",
    "import os\n",
    "import gc\n",
    "# os.environ['OPENBLAS_NUM_THREADS'] = '1'\n",
    "import numpy as np\n",
    "import TrainerVTS_V08F3_ablation_nots as TP\n",
    "import DataSetting_v5 as DS"
   ]
  },
  {
   "cell_type": "code",
   "execution_count": null,
   "id": "99956a0f-505c-40c7-92dc-4c83776f66b4",
   "metadata": {},
   "outputs": [],
   "source": [
    "date = '20240925_A208'\n",
    "name = f'{date}_Abts_sub'\n",
    "data_path = [\n",
    "    '../dataset/Door_EXP/A208',\n",
    "#             '../dataset/Door_EXP/A308',\n",
    "#             '../dataset/Door_EXP/B211',\n",
    "#             '../dataset/Door_EXP/C605'\n",
    "            ]\n",
    "level = 'subject'\n",
    "\n",
    "data_organizer = DS.DataOrganizer(name, data_path, level)\n",
    "data_organizer.load()"
   ]
  },
  {
   "cell_type": "code",
   "execution_count": null,
   "id": "af535e55-dbc7-43d8-8e25-23ee1ea74adb",
   "metadata": {},
   "outputs": [],
   "source": [
    "preprocess = DS.Preprocess(new_size=(128, 128))\n",
    "data_organizer.load_plan('../dataset/Door_EXP/subject_r0.2_A208.pkl')\n",
    "\n",
    "def run_t(gpu):\n",
    "    for i in range(6):\n",
    "        data_organizer.gen_plan(subset_ratio=0.2)\n",
    "        train_loader, valid_loader, test_loader, current_test = data_organizer.gen_loaders(mode='s')\n",
    "\n",
    "        trainer = TP.AbTrainer(beta=0.25,\n",
    "                                  name='Ab_noTS',\n",
    "                                  loss_optimizer = {'LOSS': [torch.optim.Adam, 1e-4]},\n",
    "                                  lr=1e-4, epochs=10, cuda=gpu,\n",
    "                                      preprocess = preprocess,\n",
    "                                  train_loader=train_loader, valid_loader=valid_loader, test_loader=test_loader,\n",
    "                                  notion=f'{name}_{current_test}')\n",
    "        trained = trainer.schedule(lr_decay=True)\n",
    "        \n",
    "        del trainer\n",
    "        del trained\n",
    "        del train_loader\n",
    "        del valid_loader\n",
    "        del test_loader\n",
    "        torch.cuda.empty_cache()\n",
    "        gc.collect()\n",
    "        break"
   ]
  },
  {
   "cell_type": "code",
   "execution_count": null,
   "id": "86b42295-d5d3-495e-a143-7686734f010b",
   "metadata": {},
   "outputs": [],
   "source": [
    "gpu = 0\n",
    "torch.cuda.set_device(gpu)\n",
    "run_t(gpu)"
   ]
  }
 ],
 "metadata": {
  "kernelspec": {
   "display_name": "Python 3 (ipykernel)",
   "language": "python",
   "name": "python3"
  },
  "language_info": {
   "codemirror_mode": {
    "name": "ipython",
    "version": 3
   },
   "file_extension": ".py",
   "mimetype": "text/x-python",
   "name": "python",
   "nbconvert_exporter": "python",
   "pygments_lexer": "ipython3",
   "version": "3.7.11"
  }
 },
 "nbformat": 4,
 "nbformat_minor": 5
}
