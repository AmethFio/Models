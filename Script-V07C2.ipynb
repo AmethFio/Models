{
 "cells": [
  {
   "cell_type": "code",
   "execution_count": null,
   "id": "6f38447d-b703-4b44-95e2-d5c3c7b511ad",
   "metadata": {
    "tags": []
   },
   "outputs": [],
   "source": [
    "# Imports\n",
    "# !pip install torchinfo\n",
    "import torch\n",
    "import torch.nn as nn\n",
    "import torch.utils.data as Data\n",
    "from torchvision import datasets, transforms\n",
    "from torchinfo import summary\n",
    "import matplotlib.pyplot as plt\n",
    "import numpy as np\n",
    "import random\n",
    "import os\n",
    "import time\n",
    "import TrainerVTS_V07C1 as TP\n",
    "import DataSetting_v2 as DS"
   ]
  },
  {
   "cell_type": "code",
   "execution_count": null,
   "id": "124cff91",
   "metadata": {},
   "outputs": [],
   "source": [
    "%%html\n",
    "<style>\n",
    ".cell-output-ipywidget-background {\n",
    "    background-color: transparent !important;\n",
    "}\n",
    ":root {\n",
    "    --jp-widgets-color: var(--vscode-editor-foreground);\n",
    "    --jp-widgets-font-size: var(--vscode-editor-font-size);\n",
    "}\n",
    "</style>"
   ]
  },
  {
   "cell_type": "markdown",
   "id": "2f46fbe0-3b6d-4829-927e-7546248a3522",
   "metadata": {
    "tags": []
   },
   "source": [
    "### Loader"
   ]
  },
  {
   "cell_type": "code",
   "execution_count": null,
   "id": "85d1f226-8b61-42ee-871d-077b92100cd6",
   "metadata": {
    "tags": []
   },
   "outputs": [],
   "source": [
    "gpu = 5\n",
    "date = '240522'\n",
    "#run = ['30', '100', '300', '900']\n",
    "run = '30'\n",
    "exp = 'Prop-Center'"
   ]
  },
  {
   "cell_type": "code",
   "execution_count": null,
   "id": "d600f0ca-0c76-4eeb-a950-682bdc79b647",
   "metadata": {
    "scrolled": true,
    "tags": []
   },
   "outputs": [],
   "source": [
    "datadir = f'../dataset/0509/make19_{run}-finished/'\n",
    "data = DS.ModalityLoader(data_dir=datadir, mmap_mode='r')\n",
    "train = data.profiling({'T01', 'T02'})\n",
    "test = data.profiling({'T03', 'T04'})\n",
    "train_set = DS.MyDataset('tv', train)\n",
    "test_set = DS.MyDataset('test', test)\n",
    "train_loader, valid_loader = DS.DataSplitter(train_set).split_loader()\n",
    "test_loader = DS.DataSplitter(test_set, 1).gen_loader()"
   ]
  },
  {
   "cell_type": "markdown",
   "id": "665e3194-00e4-4cf1-b7d0-0eade01fb197",
   "metadata": {
    "jp-MarkdownHeadingCollapsed": true,
    "tags": []
   },
   "source": [
    "### Teacher"
   ]
  },
  {
   "cell_type": "code",
   "execution_count": null,
   "id": "4bce6136-283b-472d-ae99-99d10fb0c149",
   "metadata": {
    "tags": []
   },
   "outputs": [],
   "source": [
    "torch.cuda.set_device(gpu)\n",
    "imgencoder = TP.ImageEncoder(latent_dim=16)\n",
    "imgdecoder = TP.ImageDecoder(latent_dim=16)\n",
    "\n",
    "T_trainer = TP.TeacherTrainer(beta=0.5, \n",
    "                              mask=True,\n",
    "                              recon_lossfunc=nn.MSELoss(reduction='sum'),\n",
    "                              name='Teacher', networks=[imgencoder, imgdecoder],\n",
    "                 lr=1e-4, epochs=10, cuda=gpu,\n",
    "                 train_loader=train_loader, valid_loader=valid_loader, test_loader=test_loader,\n",
    "                             notion=f\"{date}_{run}_{exp}\")"
   ]
  },
  {
   "cell_type": "code",
   "execution_count": null,
   "id": "89bed5e7-858b-4f9d-b468-4bf93a1716fa",
   "metadata": {
    "scrolled": true,
    "tags": []
   },
   "outputs": [],
   "source": [
    "### Scheduler\n",
    "%matplotlib inline\n",
    "T_trained = T_trainer.schedule()"
   ]
  },
  {
   "cell_type": "markdown",
   "id": "31c2cb60-5ee4-41f8-937e-3b8bf16527c9",
   "metadata": {
    "tags": []
   },
   "source": [
    "### Student"
   ]
  },
  {
   "cell_type": "markdown",
   "id": "abf978f4-e1d8-43d4-b6ba-b5ec1caab545",
   "metadata": {
    "tags": []
   },
   "source": [
    "#### Train"
   ]
  },
  {
   "cell_type": "code",
   "execution_count": null,
   "id": "b483368d-1831-4309-8c7e-18c55d7f5c5a",
   "metadata": {
    "tags": []
   },
   "outputs": [],
   "source": [
    "torch.cuda.set_device(gpu)\n",
    "csiencoder = TP.CSIEncoder(lstm_steps=225)\n",
    "centerdecoder = TP.CenterDecoder()\n",
    "imgencoder = TP.ImageEncoder(latent_dim=16)\n",
    "imgdecoder = TP.ImageDecoder(latent_dim=16)\n",
    "imgencoder.load_state_dict(torch.load(f\"../saved/240512_30D/240512_30_Teacher_IMGENV07D1@ep167.pth\"))\n",
    "imgdecoder.load_state_dict(torch.load(f\"../saved/240512_30D/240512_30_Teacher_IMGDEV07D1@ep167.pth\"))\n",
    "\n",
    "S_trainer = TP.StudentTrainer(name='Student', mask=True,\n",
    "                              networks=[csiencoder, centerdecoder, imgencoder, imgdecoder],\n",
    "                              lr=1e-4, epochs=10, cuda=gpu,\n",
    "                              notion=f\"{date}_{run}C\",\n",
    "                              train_loader=train_loader, valid_loader=valid_loader, test_loader=test_loader)"
   ]
  },
  {
   "cell_type": "code",
   "execution_count": null,
   "id": "fd93e380-2375-49df-9ba1-09f1d66354e1",
   "metadata": {
    "scrolled": true,
    "tags": []
   },
   "outputs": [],
   "source": [
    "### Scheduler\n",
    "%matplotlib inline\n",
    "S_trained = S_trainer.train(autosave=True, notion=f\"{date}_{run}C\", train_module={'csien', 'ctrde'}, eval_module={'imgen', 'imgde'})\n",
    "S_trainer.plot_train_loss(autosave=True, notion=f\"{date}_{run}C\")"
   ]
  },
  {
   "cell_type": "code",
   "execution_count": null,
   "id": "95fdbcb5-6ce4-4526-be23-ce7afa4b6719",
   "metadata": {
    "scrolled": true,
    "tags": []
   },
   "outputs": [],
   "source": [
    "S_trainer.test(loader='train')\n",
    "S_trainer.plot_test(select_num=8, autosave=True, notion=f\"{date}_{run}C\")"
   ]
  },
  {
   "cell_type": "code",
   "execution_count": null,
   "id": "225634bb-a70e-4cf9-a550-b5b9789b5c01",
   "metadata": {
    "scrolled": true,
    "tags": []
   },
   "outputs": [],
   "source": [
    "S_trainer.test(loader='test')\n",
    "S_trainer.plot_test(select_num=8, autosave=True, notion=f\"{date}_{run}C\")"
   ]
  },
  {
   "cell_type": "code",
   "execution_count": null,
   "id": "41dee054-1124-436d-94fe-4ff421c1990d",
   "metadata": {
    "tags": []
   },
   "outputs": [],
   "source": [
    "S_trainer.loss.save('pred', f\"{date}_{run}C\")"
   ]
  },
  {
   "cell_type": "code",
   "execution_count": null,
   "id": "26a15b0d-7dcb-4076-992b-bea31de08aad",
   "metadata": {},
   "outputs": [],
   "source": []
  }
 ],
 "metadata": {
  "kernelspec": {
   "display_name": "Python 3 (ipykernel)",
   "language": "python",
   "name": "python3"
  },
  "language_info": {
   "codemirror_mode": {
    "name": "ipython",
    "version": 3
   },
   "file_extension": ".py",
   "mimetype": "text/x-python",
   "name": "python",
   "nbconvert_exporter": "python",
   "pygments_lexer": "ipython3",
   "version": "3.7.11"
  }
 },
 "nbformat": 4,
 "nbformat_minor": 5
}
