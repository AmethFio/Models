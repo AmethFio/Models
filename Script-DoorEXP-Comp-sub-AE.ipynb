{
 "cells": [
  {
   "cell_type": "markdown",
   "id": "28598243-490c-42b3-b154-eec5cb3c08ca",
   "metadata": {},
   "source": [
    "# Comparative Subject AE"
   ]
  },
  {
   "cell_type": "code",
   "execution_count": null,
   "id": "6f38447d-b703-4b44-95e2-d5c3c7b511ad",
   "metadata": {
    "tags": []
   },
   "outputs": [],
   "source": [
    "# !pip install torchinfo\n",
    "import torch\n",
    "import torch.nn as nn\n",
    "from torchinfo import summary\n",
    "import matplotlib.pyplot as plt\n",
    "import os\n",
    "import gc\n",
    "# os.environ['OPENBLAS_NUM_THREADS'] = '1'\n",
    "import numpy as np\n",
    "import time\n",
    "import CompMethods_V3 as TP\n",
    "import DataSetting_v5 as DS"
   ]
  },
  {
   "cell_type": "code",
   "execution_count": null,
   "id": "d600f0ca-0c76-4eeb-a950-682bdc79b647",
   "metadata": {
    "scrolled": true,
    "tags": []
   },
   "outputs": [],
   "source": [
    "date = '20240917'\n",
    "name = f'{date}_COMP_sub'\n",
    "data_path = ['../dataset/Door_EXP/A208']\n",
    "level = 'subject'\n",
    "\n",
    "data_organizer = DS.DataOrganizer(name, data_path, level)\n",
    "data_organizer.load()"
   ]
  },
  {
   "cell_type": "markdown",
   "id": "6793e10c-512d-4db1-8de3-fb47bea61455",
   "metadata": {
    "tags": []
   },
   "source": [
    "### AE"
   ]
  },
  {
   "cell_type": "code",
   "execution_count": null,
   "id": "40920abe-199b-41fc-b504-85015fd74139",
   "metadata": {
    "scrolled": true,
    "tags": []
   },
   "outputs": [],
   "source": [
    "preprocess = DS.Preprocess(new_size=(128, 128))\n",
    "data_organizer.load_plan('../dataset/Door_EXP/subject_r0.2.pkl')\n",
    "\n",
    "def run():\n",
    "    for i in range(6):\n",
    "        data_organizer.gen_plan()\n",
    "        train_loader, valid_loader, test_loader, current_test = data_organizer.gen_loaders(mode='s', num_workers=2)\n",
    "        AE_trainer = TP.CompTrainer(name='AE', mask=False,\n",
    "                                        networks=[TP.AutoEncoder(latent_dim=128, middle_dim=512*7*75)],\n",
    "                                        lr=1e-4, epochs=10, cuda=gpu,\n",
    "                                        preprocess = preprocess,\n",
    "                                        loss_optimizer = {'LOSS': [torch.optim.Adam, 1e-4]},\n",
    "                                        notion=f\"{date}_COMP_sub_{current_test}_AE\",\n",
    "                                        train_loader=train_loader, valid_loader=valid_loader, test_loader=test_loader)\n",
    "        ae_trained = AE_trainer.schedule(lr_decay=True)\n",
    "        break\n",
    "        # del AE_trainer\n",
    "        # del ae_trained\n",
    "        # torch.cuda.empty_cache()\n",
    "        # gc.collect()\n",
    "    return AE_trainer"
   ]
  },
  {
   "cell_type": "code",
   "execution_count": null,
   "id": "5d2661e2-860f-4a98-9385-896d2834e110",
   "metadata": {
    "scrolled": true,
    "tags": []
   },
   "outputs": [],
   "source": [
    "gpu = 6\n",
    "torch.cuda.set_device(gpu)\n",
    "trainer = run()"
   ]
  },
  {
   "cell_type": "code",
   "execution_count": null,
   "id": "dde949d0-ff14-4dad-92f1-20023c83927a",
   "metadata": {},
   "outputs": [],
   "source": []
  }
 ],
 "metadata": {
  "kernelspec": {
   "display_name": "Python 3 (ipykernel)",
   "language": "python",
   "name": "python3"
  },
  "language_info": {
   "codemirror_mode": {
    "name": "ipython",
    "version": 3
   },
   "file_extension": ".py",
   "mimetype": "text/x-python",
   "name": "python",
   "nbconvert_exporter": "python",
   "pygments_lexer": "ipython3",
   "version": "3.7.11"
  }
 },
 "nbformat": 4,
 "nbformat_minor": 5
}
