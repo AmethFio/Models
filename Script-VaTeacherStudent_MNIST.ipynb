{
 "cells": [
  {
   "cell_type": "code",
   "execution_count": 1,
   "id": "46e4d312-8e4c-4696-81fe-2f3b91645394",
   "metadata": {
    "tags": []
   },
   "outputs": [],
   "source": [
    "# Imports\n",
    "# !pip install torchinfo\n",
    "import torch\n",
    "import torch.nn as nn\n",
    "from torchvision import datasets, transforms\n",
    "from torchinfo import summary\n",
    "import matplotlib.pyplot as plt\n",
    "import numpy as np\n",
    "import random\n",
    "import os\n",
    "import time\n",
    "import Trainer_v03b2 as TP"
   ]
  },
  {
   "cell_type": "markdown",
   "id": "6833a2a9-3d82-4176-9822-443ed440ebc3",
   "metadata": {
    "tags": []
   },
   "source": [
    "## Network structures"
   ]
  },
  {
   "cell_type": "code",
   "execution_count": 10,
   "id": "f4502ecc-81ff-4973-94d7-6ec7c77ce717",
   "metadata": {
    "collapsed": true,
    "jupyter": {
     "outputs_hidden": true
    },
    "tags": []
   },
   "outputs": [
    {
     "data": {
      "text/plain": [
       "==========================================================================================\n",
       "Layer (type:depth-idx)                   Output Shape              Param #\n",
       "==========================================================================================\n",
       "ImageEncoder                             [4, 512]                  --\n",
       "├─Sequential: 1-1                        [1, 16, 128, 128]         --\n",
       "│    └─Conv2d: 2-1                       [1, 16, 128, 128]         160\n",
       "│    └─Identity: 2-2                     [1, 16, 128, 128]         --\n",
       "│    └─LeakyReLU: 2-3                    [1, 16, 128, 128]         --\n",
       "├─Sequential: 1-2                        [1, 32, 64, 64]           --\n",
       "│    └─Conv2d: 2-4                       [1, 32, 128, 128]         4,640\n",
       "│    └─Identity: 2-5                     [1, 32, 128, 128]         --\n",
       "│    └─LeakyReLU: 2-6                    [1, 32, 128, 128]         --\n",
       "│    └─MaxPool2d: 2-7                    [1, 32, 64, 64]           --\n",
       "├─Sequential: 1-3                        [1, 64, 32, 32]           --\n",
       "│    └─Conv2d: 2-8                       [1, 64, 64, 64]           18,496\n",
       "│    └─Identity: 2-9                     [1, 64, 64, 64]           --\n",
       "│    └─LeakyReLU: 2-10                   [1, 64, 64, 64]           --\n",
       "│    └─MaxPool2d: 2-11                   [1, 64, 32, 32]           --\n",
       "├─Sequential: 1-4                        [1, 128, 16, 16]          --\n",
       "│    └─Conv2d: 2-12                      [1, 128, 32, 32]          73,856\n",
       "│    └─Identity: 2-13                    [1, 128, 32, 32]          --\n",
       "│    └─LeakyReLU: 2-14                   [1, 128, 32, 32]          --\n",
       "│    └─MaxPool2d: 2-15                   [1, 128, 16, 16]          --\n",
       "├─Sequential: 1-5                        [1, 256, 8, 8]            --\n",
       "│    └─Conv2d: 2-16                      [1, 256, 16, 16]          295,168\n",
       "│    └─Identity: 2-17                    [1, 256, 16, 16]          --\n",
       "│    └─LeakyReLU: 2-18                   [1, 256, 16, 16]          --\n",
       "│    └─MaxPool2d: 2-19                   [1, 256, 8, 8]            --\n",
       "├─Sequential: 1-6                        [4, 512]                  --\n",
       "│    └─Linear: 2-20                      [4, 4096]                 16,781,312\n",
       "│    └─ReLU: 2-21                        [4, 4096]                 --\n",
       "│    └─Linear: 2-22                      [4, 512]                  2,097,664\n",
       "│    └─Tanh: 2-23                        [4, 512]                  --\n",
       "==========================================================================================\n",
       "Total params: 19,271,296\n",
       "Trainable params: 19,271,296\n",
       "Non-trainable params: 0\n",
       "Total mult-adds (M): 381.11\n",
       "==========================================================================================\n",
       "Input size (MB): 0.07\n",
       "Forward/backward pass size (MB): 10.11\n",
       "Params size (MB): 77.09\n",
       "Estimated Total Size (MB): 87.26\n",
       "=========================================================================================="
      ]
     },
     "execution_count": 10,
     "metadata": {},
     "output_type": "execute_result"
    }
   ],
   "source": [
    "m1 = TP.ImageEncoder(latent_dim=256)\n",
    "summary(m1, input_size=(1, 1, 128, 128))"
   ]
  },
  {
   "cell_type": "code",
   "execution_count": 8,
   "id": "9e5756d1-cbbf-4046-9b16-03decb6e5bb9",
   "metadata": {
    "collapsed": true,
    "jupyter": {
     "outputs_hidden": true
    },
    "tags": []
   },
   "outputs": [
    {
     "data": {
      "text/plain": [
       "==========================================================================================\n",
       "Layer (type:depth-idx)                   Output Shape              Param #\n",
       "==========================================================================================\n",
       "ImageDecoder                             [1, 1, 128, 128]          --\n",
       "├─Sequential: 1-1                        [1, 256]                  --\n",
       "│    └─Linear: 2-1                       [1, 4096]                 1,052,672\n",
       "│    └─ReLU: 2-2                         [1, 4096]                 --\n",
       "│    └─Linear: 2-3                       [1, 256]                  1,048,832\n",
       "│    └─ReLU: 2-4                         [1, 256]                  --\n",
       "├─Sequential: 1-2                        [1, 128, 4, 4]            --\n",
       "│    └─ConvTranspose2d: 2-5              [1, 128, 4, 4]            524,416\n",
       "│    └─Identity: 2-6                     [1, 128, 4, 4]            --\n",
       "│    └─LeakyReLU: 2-7                    [1, 128, 4, 4]            --\n",
       "├─Sequential: 1-3                        [1, 64, 8, 8]             --\n",
       "│    └─ConvTranspose2d: 2-8              [1, 64, 8, 8]             131,136\n",
       "│    └─Identity: 2-9                     [1, 64, 8, 8]             --\n",
       "│    └─LeakyReLU: 2-10                   [1, 64, 8, 8]             --\n",
       "├─Sequential: 1-4                        [1, 32, 16, 16]           --\n",
       "│    └─ConvTranspose2d: 2-11             [1, 32, 16, 16]           32,800\n",
       "│    └─Identity: 2-12                    [1, 32, 16, 16]           --\n",
       "│    └─LeakyReLU: 2-13                   [1, 32, 16, 16]           --\n",
       "├─Sequential: 1-5                        [1, 16, 32, 32]           --\n",
       "│    └─ConvTranspose2d: 2-14             [1, 16, 32, 32]           8,208\n",
       "│    └─Identity: 2-15                    [1, 16, 32, 32]           --\n",
       "├─Sequential: 1-8                        --                        (recursive)\n",
       "│    └─Sigmoid: 2-16                     [1, 16, 32, 32]           --\n",
       "├─Sequential: 1-7                        [1, 8, 64, 64]            --\n",
       "│    └─ConvTranspose2d: 2-17             [1, 8, 64, 64]            2,056\n",
       "│    └─Identity: 2-18                    [1, 8, 64, 64]            --\n",
       "├─Sequential: 1-8                        --                        (recursive)\n",
       "│    └─Sigmoid: 2-19                     [1, 8, 64, 64]            --\n",
       "├─Sequential: 1-9                        [1, 1, 128, 128]          --\n",
       "│    └─ConvTranspose2d: 2-20             [1, 1, 128, 128]          129\n",
       "│    └─Identity: 2-21                    [1, 1, 128, 128]          --\n",
       "│    └─Sigmoid: 2-22                     [1, 1, 128, 128]          --\n",
       "==========================================================================================\n",
       "Total params: 2,800,249\n",
       "Trainable params: 2,800,249\n",
       "Non-trainable params: 0\n",
       "Total mult-adds (M): 46.22\n",
       "==========================================================================================\n",
       "Input size (MB): 0.00\n",
       "Forward/backward pass size (MB): 0.67\n",
       "Params size (MB): 11.20\n",
       "Estimated Total Size (MB): 11.88\n",
       "=========================================================================================="
      ]
     },
     "execution_count": 8,
     "metadata": {},
     "output_type": "execute_result"
    }
   ],
   "source": [
    "m2 = TP.ImageDecoder(latent_dim=256)\n",
    "summary(m2, input_size=(1, 512))"
   ]
  },
  {
   "cell_type": "code",
   "execution_count": 5,
   "id": "e6b0b954-e737-4863-bc29-7db0cfdeae38",
   "metadata": {
    "collapsed": true,
    "jupyter": {
     "outputs_hidden": true
    },
    "tags": []
   },
   "outputs": [
    {
     "data": {
      "text/plain": [
       "==========================================================================================\n",
       "Layer (type:depth-idx)                   Output Shape              Param #\n",
       "==========================================================================================\n",
       "CsiEncoder                               [1, 256]                  353,374,464\n",
       "├─Sequential: 1-1                        [1, 16, 30, 98]           --\n",
       "│    └─Conv2d: 2-1                       [1, 16, 30, 98]           160\n",
       "│    └─LeakyReLU: 2-2                    [1, 16, 30, 98]           --\n",
       "├─Sequential: 1-2                        [1, 32, 14, 48]           --\n",
       "│    └─Conv2d: 2-3                       [1, 32, 14, 48]           4,640\n",
       "│    └─LeakyReLU: 2-4                    [1, 32, 14, 48]           --\n",
       "├─Sequential: 1-3                        [1, 64, 12, 46]           --\n",
       "│    └─Conv2d: 2-5                       [1, 64, 12, 46]           18,496\n",
       "│    └─LeakyReLU: 2-6                    [1, 64, 12, 46]           --\n",
       "├─Sequential: 1-4                        [1, 128, 10, 44]          --\n",
       "│    └─Conv2d: 2-7                       [1, 128, 10, 44]          73,856\n",
       "│    └─LeakyReLU: 2-8                    [1, 128, 10, 44]          --\n",
       "├─Sequential: 1-5                        [1, 256, 8, 42]           --\n",
       "│    └─Conv2d: 2-9                       [1, 256, 8, 42]           295,168\n",
       "│    └─LeakyReLU: 2-10                   [1, 256, 8, 42]           --\n",
       "├─Sequential: 1-6                        [1, 16, 30, 98]           (recursive)\n",
       "│    └─Conv2d: 2-11                      [1, 16, 30, 98]           (recursive)\n",
       "│    └─LeakyReLU: 2-12                   [1, 16, 30, 98]           --\n",
       "├─Sequential: 1-7                        [1, 32, 14, 48]           (recursive)\n",
       "│    └─Conv2d: 2-13                      [1, 32, 14, 48]           (recursive)\n",
       "│    └─LeakyReLU: 2-14                   [1, 32, 14, 48]           --\n",
       "├─Sequential: 1-8                        [1, 64, 12, 46]           (recursive)\n",
       "│    └─Conv2d: 2-15                      [1, 64, 12, 46]           (recursive)\n",
       "│    └─LeakyReLU: 2-16                   [1, 64, 12, 46]           --\n",
       "├─Sequential: 1-9                        [1, 128, 10, 44]          (recursive)\n",
       "│    └─Conv2d: 2-17                      [1, 128, 10, 44]          (recursive)\n",
       "│    └─LeakyReLU: 2-18                   [1, 128, 10, 44]          --\n",
       "├─Sequential: 1-10                       [1, 256, 8, 42]           (recursive)\n",
       "│    └─Conv2d: 2-19                      [1, 256, 8, 42]           (recursive)\n",
       "│    └─LeakyReLU: 2-20                   [1, 256, 8, 42]           --\n",
       "├─Sequential: 1-11                       --                        --\n",
       "│    └─LSTM: 2-21                        [1, 336, 256]             1,314,816\n",
       "==========================================================================================\n",
       "Total params: 355,081,600\n",
       "Trainable params: 355,081,600\n",
       "Non-trainable params: 0\n",
       "Total mult-adds (M): 732.72\n",
       "==========================================================================================\n",
       "Input size (MB): 0.07\n",
       "Forward/backward pass size (MB): 2.66\n",
       "Params size (MB): 6.83\n",
       "Estimated Total Size (MB): 9.56\n",
       "=========================================================================================="
      ]
     },
     "execution_count": 5,
     "metadata": {},
     "output_type": "execute_result"
    }
   ],
   "source": [
    "m3 = TP.CsiEncoder()\n",
    "summary(m3, input_size=(2, 90, 100))"
   ]
  },
  {
   "cell_type": "markdown",
   "id": "95c59034-15cf-4da3-ba51-f4608be45807",
   "metadata": {},
   "source": [
    "## Loader"
   ]
  },
  {
   "cell_type": "code",
   "execution_count": null,
   "id": "7bf80ebe-7cf9-47aa-8d39-373b76ae9835",
   "metadata": {
    "tags": []
   },
   "outputs": [],
   "source": [
    "transform = transforms.Compose([transforms.Resize([128,128]),\n",
    "                                transforms.ToTensor(),\n",
    "                      #          transforms.Normalize((0.5, ), (0.5, ))\n",
    "])\n",
    "\n",
    "data_train = datasets.MNIST(root = \"../Dataset/MNIST/\",\n",
    "                            transform=transform,\n",
    "                            train = True,\n",
    "                            download = True)\n",
    "\n",
    "data_test = datasets.MNIST(root=\"../Dataset/MNIST/\",\n",
    "                           transform = transform,\n",
    "                           train = False)\n",
    "\n",
    "train_loader = torch.utils.data.DataLoader(dataset=data_train,\n",
    "                                           batch_size = 64,\n",
    "                                           shuffle = True,\n",
    "                                          drop_last=True)\n",
    "\n",
    "valid_loader = train_loader\n",
    "\n",
    "test_loader = torch.utils.data.DataLoader(dataset=data_test,\n",
    "                                          batch_size = 64,\n",
    "                                          drop_last=True,\n",
    "                                          shuffle = True)"
   ]
  },
  {
   "cell_type": "code",
   "execution_count": 2,
   "id": "58e9df13-7399-49b1-958d-daacc428125c",
   "metadata": {
    "tags": []
   },
   "outputs": [
    {
     "name": "stdout",
     "output_type": "stream",
     "text": [
      "loaded\n",
      "(20000, 4) (20000, 1, 28, 28)\n",
      "14000 4000 2000\n",
      "14000 4000 2000\n"
     ]
    }
   ],
   "source": [
    "transform = transforms.Compose([transforms.Resize([128,128]),\n",
    "                                transforms.ToTensor(),\n",
    "                      #          transforms.Normalize((0.5, ), (0.5, ))\n",
    "])\n",
    "datadir = '../Dataset/MNIST/myMNIST/'\n",
    "# Specify x and y\n",
    "mydata = TP.MyDataset(datadir + 'train_images_10c2000s_label_2.npy',\n",
    "                      datadir + 'train_images_10c2000s_2.npy',\n",
    "                      transform)\n",
    "print(mydata.data['x'].shape, mydata.data['y'].shape)\n",
    "\n",
    "# Specify sizes of train, valid and test sets\n",
    "train_size = int(len(mydata) * 0.7)\n",
    "valid_size = int(len(mydata) * 0.2)\n",
    "test_size = int(len(mydata)) - train_size - valid_size\n",
    "print(train_size, valid_size, test_size)\n",
    "\n",
    "train_loader, valid_loader, test_loader = TP.split_loader(mydata, train_size, valid_size, test_size, 8)"
   ]
  },
  {
   "cell_type": "code",
   "execution_count": 3,
   "id": "06052fb8-5645-4cd8-bb8b-93ad32374fd1",
   "metadata": {
    "tags": []
   },
   "outputs": [],
   "source": [
    "# Hyperparameters\n",
    "t_args = TP.MyArgs(cuda=1, epochs=100, learning_rate=1e-4, criterion=nn.SmoothL1Loss(reduction=\"sum\"), optimizer = torch.optim.Adam)\n",
    "s_args = TP.MyArgs(cuda=1, epochs=100, learning_rate=1e-5, criterion=nn.SmoothL1Loss(), optimizer = torch.optim.Adam)"
   ]
  },
  {
   "cell_type": "code",
   "execution_count": 4,
   "id": "baa41d85-8b1a-450c-a44c-f7ee401c8dd1",
   "metadata": {
    "tags": []
   },
   "outputs": [],
   "source": [
    "# Model and Loss\n",
    "imgencoder = TP.ImageEncoder(batchnorm=False, latent_dim=8).to(t_args.device)\n",
    "imgdecoder = TP.ImageDecoder(batchnorm=False, latent_dim=8, active_func=nn.LeakyReLU()).to(t_args.device)\n",
    "csiencoder = TP.CsiEncoder(batchnorm=False, latent_dim=256).to(t_args.device)\n",
    "\n",
    "trainer = TP.TrainerVTS(img_encoder=imgencoder, img_decoder=imgdecoder, csi_encoder=csiencoder,\n",
    "                                   teacher_args=t_args, student_args=s_args, \n",
    "                                   train_loader=train_loader, valid_loader=valid_loader, test_loader=test_loader,\n",
    "                                   temperature=1, batch_size=64,kl_weight=0.25)"
   ]
  },
  {
   "cell_type": "code",
   "execution_count": null,
   "id": "518f630a-9ec7-4402-8ef9-176c9243898d",
   "metadata": {
    "jupyter": {
     "source_hidden": true
    },
    "tags": []
   },
   "outputs": [],
   "source": [
    "# Load from checkpoints\n",
    "trainer.toal_epochs=0\n",
    "imgencoder.load_state_dict(torch.load('../Models/ImgEn_Model_v02a1_ImgEn_Fc_0307_tep1200.pth'))\n",
    "imgdecoder.load_state_dict(torch.load('../Models/ImgDe_Model_v02a1_ImgDe_FC_0307_tep1200.pth'))\n",
    "csiencoder.load_state_dict(torch.load('../Models/CSIEn_Model_v02a1_CsiEn_Last_0307_tep1200_sep700.pth'))"
   ]
  },
  {
   "cell_type": "code",
   "execution_count": 28,
   "id": "13be17ec-ff6d-4398-b322-6939491430dc",
   "metadata": {
    "tags": []
   },
   "outputs": [],
   "source": [
    "# When changing learning rate\n",
    "t_args = TP.MyArgs(cuda=1, epochs=100, learning_rate=1e-6, criterion=nn.SmoothL1Loss(reduction=\"sum\"), optimizer = torch.optim.Adam)\n",
    "s_args = TP.MyArgs(cuda=1, epochs=100, learning_rate=1e-7, criterion=nn.SmoothL1Loss(), optimizer = torch.optim.Adam)\n",
    "trainer.args={'t':t_args, 's':s_args}"
   ]
  },
  {
   "cell_type": "code",
   "execution_count": null,
   "id": "2481008b-4cdf-4476-a960-749fc65aa02b",
   "metadata": {
    "tags": []
   },
   "outputs": [
    {
     "name": "stdout",
     "output_type": "stream",
     "text": [
      "Teacher: epoch=1/100, 700/1750 of train, loss=22.3790321350097663"
     ]
    }
   ],
   "source": [
    "# Training and Saving\n",
    "trainer.train_teacher() "
   ]
  },
  {
   "cell_type": "code",
   "execution_count": null,
   "id": "5c99ccb9-2b07-4f53-bc14-59fffe8a479b",
   "metadata": {
    "tags": []
   },
   "outputs": [],
   "source": [
    "# Plot loss curves\n",
    "%matplotlib inline\n",
    "trainer.plot_teacher_loss()"
   ]
  },
  {
   "cell_type": "code",
   "execution_count": null,
   "id": "3f292940-9bfb-4061-b7c8-fa5b50b45ef8",
   "metadata": {
    "tags": []
   },
   "outputs": [],
   "source": [
    "  #=====================test============================\n",
    "trainer.test_teacher(mode='train')"
   ]
  },
  {
   "cell_type": "code",
   "execution_count": null,
   "id": "08aa820f-9ea2-4152-9793-77db5210a7bb",
   "metadata": {
    "tags": []
   },
   "outputs": [],
   "source": [
    "%matplotlib inline\n",
    "trainer.plot_teacher_test(select_num=8)"
   ]
  },
  {
   "cell_type": "code",
   "execution_count": 16,
   "id": "60f15876-53ee-4c3d-a282-db7581cadcc3",
   "metadata": {
    "tags": []
   },
   "outputs": [
    {
     "ename": "ValueError",
     "evalue": "not enough values to unpack (expected 2, got 1)",
     "output_type": "error",
     "traceback": [
      "\u001b[0;31m---------------------------------------------------------------------------\u001b[0m",
      "\u001b[0;31mValueError\u001b[0m                                Traceback (most recent call last)",
      "\u001b[0;32m/tmp/ipykernel_10189/2879961369.py\u001b[0m in \u001b[0;36m<module>\u001b[0;34m\u001b[0m\n\u001b[1;32m      1\u001b[0m \u001b[0mget_ipython\u001b[0m\u001b[0;34m(\u001b[0m\u001b[0;34m)\u001b[0m\u001b[0;34m.\u001b[0m\u001b[0mrun_line_magic\u001b[0m\u001b[0;34m(\u001b[0m\u001b[0;34m'matplotlib'\u001b[0m\u001b[0;34m,\u001b[0m \u001b[0;34m'inline'\u001b[0m\u001b[0;34m)\u001b[0m\u001b[0;34m\u001b[0m\u001b[0;34m\u001b[0m\u001b[0m\n\u001b[1;32m      2\u001b[0m \u001b[0mdt\u001b[0m \u001b[0;34m=\u001b[0m \u001b[0mnp\u001b[0m\u001b[0;34m.\u001b[0m\u001b[0mload\u001b[0m\u001b[0;34m(\u001b[0m\u001b[0mdatadir\u001b[0m \u001b[0;34m+\u001b[0m \u001b[0;34m'train_images_10c2000s.npy'\u001b[0m\u001b[0;34m)\u001b[0m\u001b[0;34m\u001b[0m\u001b[0;34m\u001b[0m\u001b[0m\n\u001b[0;32m----> 3\u001b[0;31m \u001b[0mtrainer\u001b[0m\u001b[0;34m.\u001b[0m\u001b[0mtraverse_latent\u001b[0m\u001b[0;34m(\u001b[0m\u001b[0;36m180\u001b[0m\u001b[0;34m,\u001b[0m \u001b[0mdt\u001b[0m\u001b[0;34m,\u001b[0m \u001b[0mdim1\u001b[0m\u001b[0;34m=\u001b[0m\u001b[0;36m1\u001b[0m\u001b[0;34m,\u001b[0m \u001b[0mdim2\u001b[0m\u001b[0;34m=\u001b[0m\u001b[0;36m4\u001b[0m\u001b[0;34m)\u001b[0m\u001b[0;34m\u001b[0m\u001b[0;34m\u001b[0m\u001b[0m\n\u001b[0m",
      "\u001b[0;32m~/datastore/Models/TrainerVTS.py\u001b[0m in \u001b[0;36mtraverse_latent\u001b[0;34m(self, img_ind, dataset, dim1, dim2, granularity, autosave, notion)\u001b[0m\n\u001b[1;32m    271\u001b[0m             \u001b[0mimg_ind\u001b[0m \u001b[0;34m=\u001b[0m \u001b[0mnp\u001b[0m\u001b[0;34m.\u001b[0m\u001b[0mrandom\u001b[0m\u001b[0;34m.\u001b[0m\u001b[0mrandint\u001b[0m\u001b[0;34m(\u001b[0m\u001b[0mlen\u001b[0m\u001b[0;34m(\u001b[0m\u001b[0mdataset\u001b[0m\u001b[0;34m)\u001b[0m\u001b[0;34m)\u001b[0m\u001b[0;34m\u001b[0m\u001b[0;34m\u001b[0m\u001b[0m\n\u001b[1;32m    272\u001b[0m \u001b[0;34m\u001b[0m\u001b[0m\n\u001b[0;32m--> 273\u001b[0;31m         \u001b[0mdata_y\u001b[0m\u001b[0;34m,\u001b[0m \u001b[0mdata_x\u001b[0m \u001b[0;34m=\u001b[0m \u001b[0mdataset\u001b[0m\u001b[0;34m[\u001b[0m\u001b[0mimg_ind\u001b[0m\u001b[0;34m]\u001b[0m\u001b[0;34m\u001b[0m\u001b[0;34m\u001b[0m\u001b[0m\n\u001b[0m\u001b[1;32m    274\u001b[0m         \u001b[0mdata_y\u001b[0m \u001b[0;34m=\u001b[0m \u001b[0mdata_y\u001b[0m\u001b[0;34m[\u001b[0m\u001b[0mnp\u001b[0m\u001b[0;34m.\u001b[0m\u001b[0mnewaxis\u001b[0m\u001b[0;34m,\u001b[0m \u001b[0;34m...\u001b[0m\u001b[0;34m]\u001b[0m\u001b[0;34m.\u001b[0m\u001b[0mto\u001b[0m\u001b[0;34m(\u001b[0m\u001b[0mtorch\u001b[0m\u001b[0;34m.\u001b[0m\u001b[0mfloat32\u001b[0m\u001b[0;34m)\u001b[0m\u001b[0;34m.\u001b[0m\u001b[0mto\u001b[0m\u001b[0;34m(\u001b[0m\u001b[0mself\u001b[0m\u001b[0;34m.\u001b[0m\u001b[0margs\u001b[0m\u001b[0;34m[\u001b[0m\u001b[0;34m't'\u001b[0m\u001b[0;34m]\u001b[0m\u001b[0;34m.\u001b[0m\u001b[0mdevice\u001b[0m\u001b[0;34m)\u001b[0m\u001b[0;34m\u001b[0m\u001b[0;34m\u001b[0m\u001b[0m\n\u001b[1;32m    275\u001b[0m \u001b[0;34m\u001b[0m\u001b[0m\n",
      "\u001b[0;31mValueError\u001b[0m: not enough values to unpack (expected 2, got 1)"
     ]
    }
   ],
   "source": [
    "%matplotlib inline\n",
    "dt = np.load(datadir + 'train_images_10c2000s_1   .npy')\n",
    "trainer.traverse_latent(180, dt, dim1=1, dim2=4)"
   ]
  },
  {
   "cell_type": "code",
   "execution_count": null,
   "id": "91474740-6fa1-4aa5-bc7c-2be732f17267",
   "metadata": {},
   "outputs": [],
   "source": []
  }
 ],
 "metadata": {
  "kernelspec": {
   "display_name": "Python 3 (ipykernel)",
   "language": "python",
   "name": "python3"
  },
  "language_info": {
   "codemirror_mode": {
    "name": "ipython",
    "version": 3
   },
   "file_extension": ".py",
   "mimetype": "text/x-python",
   "name": "python",
   "nbconvert_exporter": "python",
   "pygments_lexer": "ipython3",
   "version": "3.7.11"
  }
 },
 "nbformat": 4,
 "nbformat_minor": 5
}
